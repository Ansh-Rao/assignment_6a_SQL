{
 "cells": [
  {
   "cell_type": "markdown",
   "id": "9d331632-a1b5-423f-8d69-919a0b9a9d63",
   "metadata": {},
   "source": [
    "#### Q1. What is a database? Differentiate between SQL and NoSQL databases."
   ]
  },
  {
   "cell_type": "code",
   "execution_count": 4,
   "id": "63af69a4-394e-46c6-9fa8-b8213d0fc61f",
   "metadata": {},
   "outputs": [],
   "source": [
    "\n",
    "# A database is an organized collection of structured information, or data, typically stored electronically in a computer system.\n",
    "\n",
    "# SQL :-\n",
    "#  -SQL databases are relational.\n",
    "#  -It use structured query language (SQL) and have a predefined schema. \n",
    "#  -SQL databases are vertically scalable.\n",
    "\n",
    "# NoSQL:-\n",
    "#  -NoSQL databases are non-relational. \n",
    "#  -It have dynamic schemas for unstructured data.\n",
    "#  -NoSQL databases are horizontally scalable.\n",
    "\n"
   ]
  },
  {
   "cell_type": "code",
   "execution_count": null,
   "id": "97b80a58-5b9b-4d14-a018-ca15fb37990d",
   "metadata": {},
   "outputs": [],
   "source": []
  },
  {
   "cell_type": "markdown",
   "id": "3ce5c8f6-7d60-4249-99df-1ae597db2a85",
   "metadata": {},
   "source": [
    "#### Q2. What is DDL? Explain why CREATE, DROP, ALTER, and TRUNCATE are used with an example."
   ]
  },
  {
   "cell_type": "code",
   "execution_count": 5,
   "id": "d8ea8d0f-a1a2-4581-a86c-daf5751efdc5",
   "metadata": {},
   "outputs": [],
   "source": [
    "# Data Definition Language(DDL) is a subset of SQL and a part of DBMS(Database Management System).\n",
    "#    DDL statements are similar to a computer programming language for defining data structures, especially database schemas. "
   ]
  },
  {
   "cell_type": "code",
   "execution_count": 6,
   "id": "20d3036d-ebda-4152-8063-49d21586d125",
   "metadata": {},
   "outputs": [],
   "source": [
    "# DDL consist of Commands to commands like CREATE, ALTER, TRUNCATE and DROP.\n",
    "#  These commands are used to create or modify the tables in SQL."
   ]
  },
  {
   "cell_type": "code",
   "execution_count": null,
   "id": "9c71254d-2436-473e-a718-6689a7be7311",
   "metadata": {},
   "outputs": [],
   "source": [
    "# CREATE :-The CREATE TABLE command creates a new table in the database.\n",
    "#example\n",
    "CREATE TABLE TestTable AS\n",
    "SELECT customername, contactname\n",
    "FROM customers;"
   ]
  },
  {
   "cell_type": "code",
   "execution_count": null,
   "id": "09455b62-5673-49ab-acd9-6093a0a58eaa",
   "metadata": {},
   "outputs": [],
   "source": [
    "# ALTER :- The ALTER TABLE command adds, deletes, or modifies columns in a table.\n",
    "# example\n",
    "ALTER TABLE Customers\n",
    "ADD Email varchar(255);"
   ]
  },
  {
   "cell_type": "code",
   "execution_count": null,
   "id": "ab21e7b1-662f-4e68-a6cb-8d30f7ca3520",
   "metadata": {},
   "outputs": [],
   "source": [
    "# TRUNCATE :- The TRUNCATE TABLE command deletes the data inside a table, but not the table itself.\n",
    "# example\n",
    "TRUNCATE TABLE Categories;"
   ]
  },
  {
   "cell_type": "code",
   "execution_count": null,
   "id": "7beca12d-3bc4-45f5-a243-fa6122d3e53e",
   "metadata": {},
   "outputs": [],
   "source": [
    "# DROP :- The DROP TABLE command deletes a table in the database.\n",
    "#example\n",
    "DROP TABLE Shippers;"
   ]
  },
  {
   "cell_type": "code",
   "execution_count": null,
   "id": "a6aa734c-0299-403e-8509-c77f9b61b31d",
   "metadata": {},
   "outputs": [],
   "source": []
  },
  {
   "cell_type": "markdown",
   "id": "1a05ea9b-a23c-4c37-80af-871407c44f76",
   "metadata": {},
   "source": [
    "#### Q3. What is DML? Explain INSERT, UPDATE, and DELETE with an example."
   ]
  },
  {
   "cell_type": "code",
   "execution_count": 9,
   "id": "14480ab3-1274-447a-9291-7a4231db6b94",
   "metadata": {},
   "outputs": [],
   "source": [
    "# A DML (data manipulation language) refers to a computer programming language that allows you to add (insert), delete (delete), \n",
    "#        and alter (update) data in a database. \n",
    "# A DML is typically a sublanguage of a larger database language like SQL."
   ]
  },
  {
   "cell_type": "code",
   "execution_count": null,
   "id": "6e32f5b3-b4bd-4702-8c02-6806436b868b",
   "metadata": {},
   "outputs": [],
   "source": [
    "# INSERT Command :- This command is used to enter the information or values into a row.\n",
    "# example\n",
    "INSERT INTO students ('stu_id' int, 'stu_name' varchar(20), 'city' varchar(20))\n",
    "VALUES ('1', 'Ansh', 'Kanpur'); "
   ]
  },
  {
   "cell_type": "code",
   "execution_count": null,
   "id": "ade0ec98-e9ec-407f-a62a-efc3a6faba32",
   "metadata": {},
   "outputs": [],
   "source": [
    "# UPDATE Command :- This command is used to alter existing table records.\n",
    "# example\n",
    "UPDATE students\n",
    "SET due_fees = 20000\n",
    "WHERE stu_name = 'Mini'; "
   ]
  },
  {
   "cell_type": "code",
   "execution_count": null,
   "id": "4d224c7b-c924-4135-b27c-e3a64f4f6edd",
   "metadata": {},
   "outputs": [],
   "source": [
    "# DELETE Command :- It deletes all archives from a table.\n",
    "# example\n",
    "DELETE FROM students\n",
    "WHERE stu_id = '001'; "
   ]
  },
  {
   "cell_type": "code",
   "execution_count": null,
   "id": "24193e09-aca5-480f-a20c-55d584c73fc8",
   "metadata": {},
   "outputs": [],
   "source": []
  },
  {
   "cell_type": "markdown",
   "id": "69f4e6a7-5611-4054-ab5e-60ebdea44644",
   "metadata": {},
   "source": [
    "#### Q4. What is DQL? Explain SELECT with an example."
   ]
  },
  {
   "cell_type": "code",
   "execution_count": 11,
   "id": "8e5938ce-960e-46fa-8ea0-e78f0b1f7f2d",
   "metadata": {},
   "outputs": [],
   "source": [
    "# DQL (data query language) is a portion of a SQL statement that allows you to get and organise data from a database. "
   ]
  },
  {
   "cell_type": "code",
   "execution_count": null,
   "id": "59b21cd9-360f-4926-8e27-dd450c08dcd5",
   "metadata": {},
   "outputs": [],
   "source": [
    "# SELECT: It is used to retrieve data from the database.\n",
    "# example\n",
    "SELECT CustomerName FROM Customer where Age = '21';"
   ]
  },
  {
   "cell_type": "code",
   "execution_count": null,
   "id": "02ef98c1-4d92-481b-8199-89547b9dae0b",
   "metadata": {},
   "outputs": [],
   "source": []
  },
  {
   "cell_type": "markdown",
   "id": "447b606c-ac09-40f9-b21f-ca96b004119d",
   "metadata": {},
   "source": [
    "#### Q5. Explain Primary Key and Foreign Key."
   ]
  },
  {
   "cell_type": "code",
   "execution_count": 13,
   "id": "360463cd-3ca4-4383-ace4-08e84bf4e052",
   "metadata": {},
   "outputs": [],
   "source": [
    "# Primary Key :-\n",
    "# -A primary key is used to ensure data in the specific column is unique.\n",
    "# -It does not allow NULL values.\n",
    "\n",
    "# Foreign Key# -\n",
    "# -A foreign key is a column or group of columns in a relational database table that provides a link between data in two tables.\n",
    "# -It can also contain NULL values."
   ]
  },
  {
   "cell_type": "code",
   "execution_count": null,
   "id": "204bbb3e-1f50-4d83-9a06-5f4df66015b8",
   "metadata": {},
   "outputs": [],
   "source": []
  },
  {
   "cell_type": "markdown",
   "id": "f72a35a9-8a18-4449-a555-a3e611f8a604",
   "metadata": {},
   "source": [
    "#### Q6. Write a python code to connect MySQL to python. Explain the cursor() and execute() method."
   ]
  },
  {
   "cell_type": "code",
   "execution_count": null,
   "id": "e1de3522-1b4a-4562-ba48-31c3b462beb2",
   "metadata": {},
   "outputs": [],
   "source": [
    "# a python code to connect MySQL to python\n",
    "import mysql.connector\n",
    "mydb = mysql.connector.connect(\n",
    "  host=\"localhost\",\n",
    "  user=\"abc\",\n",
    "  password=\"password\"\n",
    ")\n",
    "mycursor = mydb.cursor()"
   ]
  },
  {
   "cell_type": "code",
   "execution_count": 15,
   "id": "a7736236-9d1a-495e-8b8a-4a1cb1dfc9b6",
   "metadata": {},
   "outputs": [],
   "source": [
    "# cursor():- \n",
    "#         it  helps to execute the query and fetch the records from the database.\n",
    "\n",
    "# execute() :-\n",
    "#       This method accepts a MySQL query as a parameter and executes the given query.\n"
   ]
  },
  {
   "cell_type": "code",
   "execution_count": null,
   "id": "db99d08b-84a3-4f1d-a8c3-f5ab9d2787ba",
   "metadata": {},
   "outputs": [],
   "source": []
  },
  {
   "cell_type": "markdown",
   "id": "936cf352-d9cb-451b-94ca-25006083ca8f",
   "metadata": {},
   "source": [
    "#### Q7. Give the order of execution of SQL clauses in an SQL query."
   ]
  },
  {
   "cell_type": "code",
   "execution_count": 16,
   "id": "44c99c05-e9b3-4e41-b62c-aa7b71ec45b3",
   "metadata": {},
   "outputs": [],
   "source": [
    "# The order of execution of an SQL query’s clauses is as follows:-\n",
    "\n",
    "# 1-\tFROM :-Tables are joined to get the base data.\n",
    "# 2-\tWHERE :- The base data is filtered.\n",
    "# 3-\tGROUP BY :-\tThe filtered base data is grouped.\n",
    "# 4-\tHAVING :- The grouped base data is filtered.\n",
    "# 5-\tSELECT :- The final data is returned.\n",
    "# 6-\tORDER BY :-\tThe final data is sorted.\n",
    "# 7-\tLIMIT :- The returned data is limited to row count."
   ]
  },
  {
   "cell_type": "code",
   "execution_count": null,
   "id": "c5c22acf-58bb-46e7-8fb2-cc5af7a2827e",
   "metadata": {},
   "outputs": [],
   "source": []
  }
 ],
 "metadata": {
  "kernelspec": {
   "display_name": "Python 3 (ipykernel)",
   "language": "python",
   "name": "python3"
  },
  "language_info": {
   "codemirror_mode": {
    "name": "ipython",
    "version": 3
   },
   "file_extension": ".py",
   "mimetype": "text/x-python",
   "name": "python",
   "nbconvert_exporter": "python",
   "pygments_lexer": "ipython3",
   "version": "3.10.8"
  }
 },
 "nbformat": 4,
 "nbformat_minor": 5
}
